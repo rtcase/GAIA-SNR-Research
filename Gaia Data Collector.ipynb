{
 "cells": [
  {
   "cell_type": "code",
   "execution_count": 6,
   "metadata": {},
   "outputs": [],
   "source": [
    "import numpy as np\n",
    "from matplotlib import gridspec\n",
    "import matplotlib.pyplot as plt\n",
    "%matplotlib inline\n",
    "from astropy import units as u\n",
    "from astropy.coordinates import SkyCoord \n",
    "from astropy.io import ascii\n",
    "from astropy.units import Quantity\n",
    "from astroquery.gaia import Gaia\n",
    "import os\n",
    "import warnings\n",
    "warnings.filterwarnings(\"ignore\")"
   ]
  },
  {
   "cell_type": "markdown",
   "metadata": {},
   "source": [
    "# Setup for Search and Save"
   ]
  },
  {
   "cell_type": "code",
   "execution_count": 18,
   "metadata": {
    "collapsed": true
   },
   "outputs": [
    {
     "data": {
      "text/plain": [
       "'Tycho'"
      ]
     },
     "execution_count": 18,
     "metadata": {},
     "output_type": "execute_result"
    }
   ],
   "source": [
    "snr_list[1][0]"
   ]
  },
  {
   "cell_type": "code",
   "execution_count": 7,
   "metadata": {},
   "outputs": [
    {
     "name": "stdout",
     "output_type": "stream",
     "text": [
      "Loaded SNR: Tycho\n"
     ]
    }
   ],
   "source": [
    "#os.chdir('C:\\\\Users\\\\robin\\\\Documents\\\\Research')\n",
    "os.chdir('D:\\\\Documents\\Research\\Supernova Remnant Data')\n",
    "t = 1\n",
    "snr_list = ascii.read('snrsdata.txt')\n",
    "snr_name = snr_list[t][0] # G0.0+0.0 Name\n",
    "snr_ra = snr_list[t][1]   # 00:00:00 RA\n",
    "snr_dec = snr_list[t][2]  # 00:00:00 Dec\n",
    "snr_size = snr_list[t][3] # radius in arc-minutes\n",
    "snr_ra_dec = SkyCoord(snr_ra, snr_dec, unit = (u.deg, u.deg), frame = 'icrs')\n",
    "snr_size = snr_size * u.arcmin\n",
    "snr_size_deg = snr_size.to(u.deg)\n",
    "os.chdir('D:\\\\Documents\\Research\\Supernova Remnant Data/' + snr_name)\n",
    "print('Loaded SNR: ' + snr_name)"
   ]
  },
  {
   "cell_type": "markdown",
   "metadata": {},
   "source": [
    "# Searching for Stars"
   ]
  },
  {
   "cell_type": "markdown",
   "metadata": {},
   "source": [
    "## Single Search and Save"
   ]
  },
  {
   "cell_type": "code",
   "execution_count": 8,
   "metadata": {
    "scrolled": false
   },
   "outputs": [
    {
     "name": "stdout",
     "output_type": "stream",
     "text": [
      "Tycho\n",
      "Jobid: 1571184293183O\n",
      "Phase: COMPLETED\n",
      "Owner: None\n",
      "Output file: async_20191015170453.vot\n",
      "Results: None\n",
      "18691\n",
      "173\n",
      "18518\n"
     ]
    }
   ],
   "source": [
    "#ra,dec,size = (snr_ra_dec.ra.deg[t], snr_ra_dec.dec.deg[t], (snr_size_deg[t].value)/2.0)\n",
    "size_offset = 10.0\n",
    "ra,dec,size = (snr_ra_dec.ra.deg, snr_ra_dec.dec.deg, size_offset*(snr_size_deg.value))\n",
    "job = Gaia.launch_job_async(\"SELECT TOP 10000000 * \\\n",
    "FROM gaiadr2.gaia_source \\\n",
    "WHERE (CONTAINS(POINT('ICRS',ra,dec),CIRCLE('ICRS', %s, %s, %s))=1 AND parallax_over_error >= 3 \\\n",
    "AND phot_g_mean_flux_over_error >= 5 AND phot_rp_mean_flux_over_error >=5 AND phot_bp_mean_flux_over_error >= 5)\" % (ra,dec,size) , dump_to_file=True)\n",
    "print (snr_name)\n",
    "print (job)\n",
    "r = job.get_results()\n",
    "ra_and_dec = SkyCoord(ra = r['ra'], dec = r['dec'], unit= (u.deg,u.deg) )\n",
    "dist_from_center = ra_and_dec.separation(snr_ra_dec).arcmin\n",
    "inside_remnant = np.where(dist_from_center <= snr_size.value)[0]\n",
    "outside_remnant = np.where(dist_from_center > snr_size.value)[0]\n",
    "ascii.write(r[inside_remnant], str(snr_name)+' potential stars.txt', format = 'csv' )\n",
    "ascii.write(r[outside_remnant], str(snr_name)+' sample stars.txt', format = 'csv' )\n",
    "print (len(r))\n",
    "print (len(r[inside_remnant]))\n",
    "print (len(r[outside_remnant]))"
   ]
  },
  {
   "cell_type": "code",
   "execution_count": null,
   "metadata": {
    "scrolled": false
   },
   "outputs": [],
   "source": []
  },
  {
   "cell_type": "code",
   "execution_count": null,
   "metadata": {},
   "outputs": [],
   "source": []
  },
  {
   "cell_type": "markdown",
   "metadata": {},
   "source": [
    "# Grabbing Samples"
   ]
  },
  {
   "cell_type": "code",
   "execution_count": 28,
   "metadata": {
    "collapsed": true
   },
   "outputs": [],
   "source": [
    "s1 = \"SELECT TOP 400000 parallax, parallax_error, phot_g_mean_mag,phot_g_mean_flux, phot_g_mean_flux_error, bp_rp,phot_rp_mean_flux, phot_rp_mean_flux_error, phot_bp_mean_flux,phot_bp_mean_flux_error, e_bp_min_rp_val, a_g_val \\\n",
    "FROM gaiadr2.gaia_source \\\n",
    "WHERE (1/parallax >= 2 AND 1/parallax <= 8 AND parallax_over_error >= 3 AND phot_g_mean_flux_over_error >= 5 AND phot_rp_mean_flux_over_error >=5 AND phot_bp_mean_flux_over_error >= 5)\""
   ]
  },
  {
   "cell_type": "code",
   "execution_count": 12,
   "metadata": {},
   "outputs": [],
   "source": [
    "ra,dec,size = (snr_ra_dec.ra.deg[0]+2, snr_ra_dec.dec.deg[0]+4, (3))\n",
    "s1 = \"SELECT TOP 400000 parallax, parallax_error, pmra, pmra_error, pmdec, pmdec_error \\\n",
    "FROM gaiadr2.gaia_source \\\n",
    "WHERE (CONTAINS(POINT('ICRS',ra,dec),CIRCLE('ICRS', %s, %s, %s))=1 AND 1/parallax >= 2 AND 1/parallax <= 8 AND parallax_over_error >= 3 AND phot_g_mean_flux_over_error >= 5 AND phot_rp_mean_flux_over_error >=5 AND phot_bp_mean_flux_over_error >= 5)\""
   ]
  },
  {
   "cell_type": "code",
   "execution_count": 13,
   "metadata": {},
   "outputs": [
    {
     "name": "stdout",
     "output_type": "stream",
     "text": [
      "Jobid: 1552002177553O\n",
      "Phase: COMPLETED\n",
      "Owner: None\n",
      "Output file: async_20190307154259.vot\n",
      "Results: None\n",
      "400000\n"
     ]
    }
   ],
   "source": [
    "job = Gaia.launch_job_async(s1 % (ra,dec,size), dump_to_file=True)\n",
    "print (job)\n",
    "r = job.get_results()\n",
    "ascii.write(r, 'velocity_sample_data.txt', format = 'csv' )\n",
    "print (len(r))"
   ]
  },
  {
   "cell_type": "code",
   "execution_count": 30,
   "metadata": {},
   "outputs": [],
   "source": [
    "distance = 1/r['parallax']*1000"
   ]
  },
  {
   "cell_type": "code",
   "execution_count": 31,
   "metadata": {},
   "outputs": [
    {
     "name": "stdout",
     "output_type": "stream",
     "text": [
      "400000\n"
     ]
    }
   ],
   "source": [
    "near_snr = np.where((distance >= 2000) & (distance <=8000))\n",
    "print len(near_snr[0])"
   ]
  },
  {
   "cell_type": "markdown",
   "metadata": {},
   "source": [
    "# All Search"
   ]
  },
  {
   "cell_type": "code",
   "execution_count": 1,
   "metadata": {
    "scrolled": false
   },
   "outputs": [],
   "source": [
    "#for i in range(len(snr_name)):\n",
    "#    print snr_name[i]\n",
    "#    ra,dec,size = (snr_ra_dec.ra.deg[i], snr_ra_dec.dec.deg[i], (snr_size_deg[i].value)/2.0)\n",
    "#    job = Gaia.launch_job_async(\"SELECT TOP 10000000 * \\\n",
    "#FROM gaiadr2.gaia_source \\\n",
    "#WHERE CONTAINS(POINT('ICRS',ra,dec),CIRCLE('ICRS', %s, %s, %s))=1\" % (ra,dec,size) ,\n",
    "#                      dump_to_file=True)\n",
    "#    print job\n",
    "#    r = job.get_results()\n",
    "#    ascii.write(r, str(snr_name[i])+ '_' + str((snr_size[i].value/2.0)) + '_arcmin.txt', format = 'csv' )\n",
    "#    print len(r)"
   ]
  },
  {
   "cell_type": "code",
   "execution_count": 3,
   "metadata": {},
   "outputs": [
    {
     "data": {
      "text/plain": [
       "253"
      ]
     },
     "execution_count": 3,
     "metadata": {},
     "output_type": "execute_result"
    }
   ],
   "source": [
    "len(snr_name)"
   ]
  },
  {
   "cell_type": "code",
   "execution_count": 18,
   "metadata": {},
   "outputs": [
    {
     "name": "stdout",
     "output_type": "stream",
     "text": [
      "G27.8+0.6\n",
      "<SkyCoord (ICRS): (ra, dec) in deg\n",
      "    (279.95833333, -4.4)>\n",
      "50.0 arcmin\n"
     ]
    }
   ],
   "source": [
    "print snr_name[1]\n",
    "print snr_ra_dec[1]\n",
    "print snr_size[1]"
   ]
  },
  {
   "cell_type": "code",
   "execution_count": null,
   "metadata": {
    "collapsed": true
   },
   "outputs": [],
   "source": [
    "(snr_size_deg[0].value)/2.0"
   ]
  },
  {
   "cell_type": "code",
   "execution_count": 22,
   "metadata": {},
   "outputs": [
    {
     "name": "stdout",
     "output_type": "stream",
     "text": [
      "15:02:50\n",
      "-41:56:00\n"
     ]
    }
   ],
   "source": [
    "print snr_ra[t]\n",
    "print snr_dec[t]"
   ]
  },
  {
   "cell_type": "code",
   "execution_count": 26,
   "metadata": {},
   "outputs": [
    {
     "data": {
      "text/plain": [
       "'G4.5+6.8'"
      ]
     },
     "execution_count": 26,
     "metadata": {},
     "output_type": "execute_result"
    }
   ],
   "source": [
    "snr_name[9]"
   ]
  },
  {
   "cell_type": "code",
   "execution_count": 12,
   "metadata": {},
   "outputs": [
    {
     "name": "stdout",
     "output_type": "stream",
     "text": [
      "41646\n"
     ]
    }
   ],
   "source": [
    "test = ascii.read('G299.2-2.9.txt')\n",
    "print len(test[0][0:])"
   ]
  },
  {
   "cell_type": "markdown",
   "metadata": {},
   "source": [
    "# Remnants that crashed my comp"
   ]
  },
  {
   "cell_type": "markdown",
   "metadata": {},
   "source": [
    "G13.3-1.3 ~ 560,000 stars in 35 arcmin\n",
    "G25.1-2.3 ~ 1,000,000 stars in 40 arcmin"
   ]
  }
 ],
 "metadata": {
  "kernelspec": {
   "display_name": "Python 3",
   "language": "python",
   "name": "python3"
  },
  "language_info": {
   "codemirror_mode": {
    "name": "ipython",
    "version": 3
   },
   "file_extension": ".py",
   "mimetype": "text/x-python",
   "name": "python",
   "nbconvert_exporter": "python",
   "pygments_lexer": "ipython3",
   "version": "3.7.0"
  }
 },
 "nbformat": 4,
 "nbformat_minor": 2
}
